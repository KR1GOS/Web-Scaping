{
 "cells": [
  {
   "cell_type": "markdown",
   "id": "893d7085",
   "metadata": {},
   "source": [
    "Internship Assignment"
   ]
  },
  {
   "cell_type": "code",
   "execution_count": 7,
   "id": "6ae6e5d9",
   "metadata": {},
   "outputs": [],
   "source": [
    "import pandas as pd\n",
    "import requests\n",
    "from bs4 import BeautifulSoup\n",
    "from selenium import webdriver\n",
    "import time\n",
    "\n",
    "def get_data(url):\n",
    "    driver = webdriver.Chrome()  \n",
    "    driver.get(url)\n",
    "    \n",
    "    scroll_pause_time = 2\n",
    "    last_height = driver.execute_script(\"return document.body.scrollHeight\")\n",
    "    while True:\n",
    "        driver.execute_script(\"window.scrollTo(0, document.body.scrollHeight);\")\n",
    "        time.sleep(scroll_pause_time)\n",
    "        new_height = driver.execute_script(\"return document.body.scrollHeight\")\n",
    "        if new_height == last_height:\n",
    "            break\n",
    "        last_height = new_height\n",
    "    \n",
    "    soup = BeautifulSoup(driver.page_source, 'lxml')\n",
    "    driver.quit()\n",
    "    \n",
    "    Tools = soup.find_all(\"div\", class_=\"tool-wrapper\")\n",
    "    \n",
    "    data = []\n",
    "    \n",
    "    for tool in Tools:\n",
    "        items = {}\n",
    "        \n",
    "        items[\"Tool Name\"] = tool.find(\"a\").attrs[\"href\"][3:]\n",
    "        items[\"Tool Url\"] = tool.find(\"a\", class_=\"mx-2\").attrs[\"href\"]\n",
    "        items[\"What is\"] = tool.find(\"p\").text\n",
    "        items[\"Pricing\"] = tool.find(\"span\", class_=\"badge\").text\n",
    "        \n",
    "        span_elements = tool.find_all('span', class_='badge bg-black')\n",
    "        tag_list = [span_element.text.strip() for span_element in span_elements]\n",
    "        items[\"Tags\"] = tag_list\n",
    "        \n",
    "        data.append(items)\n",
    "    return data\n",
    "\n",
    "def export_data(data):\n",
    "    df = pd.DataFrame(data)\n",
    "    df.to_excel(\"assignment2.xlsx\")\n",
    "\n",
    "if __name__ == '__main__':\n",
    "    data = get_data(\"https://topai.tools/browse\")\n",
    "    export_data(data)\n"
   ]
  }
 ],
 "metadata": {
  "kernelspec": {
   "display_name": "Python 3 (ipykernel)",
   "language": "python",
   "name": "python3"
  },
  "language_info": {
   "codemirror_mode": {
    "name": "ipython",
    "version": 3
   },
   "file_extension": ".py",
   "mimetype": "text/x-python",
   "name": "python",
   "nbconvert_exporter": "python",
   "pygments_lexer": "ipython3",
   "version": "3.9.7"
  }
 },
 "nbformat": 4,
 "nbformat_minor": 5
}
